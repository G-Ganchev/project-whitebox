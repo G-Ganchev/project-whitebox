{
 "cells": [
  {
   "cell_type": "code",
   "execution_count": 1,
   "metadata": {},
   "outputs": [],
   "source": [
    "import pandas as pd\n",
    "import numpy as np\n",
    "import matplotlib.pyplot as plt\n",
    "\n",
    "from scipy import stats\n",
    "from sklearn.linear_model import LinearRegression\n",
    "\n",
    "%matplotlib inline"
   ]
  },
  {
   "cell_type": "markdown",
   "metadata": {},
   "source": [
    "$y = X \\cdot \\beta+ \\epsilon$"
   ]
  },
  {
   "cell_type": "markdown",
   "metadata": {},
   "source": [
    "$\\hat{y} = X \\cdot \\hat{\\beta}$"
   ]
  },
  {
   "cell_type": "markdown",
   "metadata": {},
   "source": [
    "$\\hat{\\epsilon}  = y - \\hat{y}$"
   ]
  },
  {
   "cell_type": "markdown",
   "metadata": {},
   "source": [
    "$\\hat{\\beta} = (X^T \\cdot X)^{-1} \\cdot (X^T \\cdot y) $"
   ]
  },
  {
   "cell_type": "markdown",
   "metadata": {},
   "source": [
    "$\\sigma^{2}  =  \\frac{\\sum \\hat{\\epsilon}^{2}}{n-k}$"
   ]
  },
  {
   "cell_type": "markdown",
   "metadata": {},
   "source": [
    "$\\hat{Var}(\\hat{\\beta}) = \\sigma^{2}  (X^T \\cdot X)^{-1} $"
   ]
  },
  {
   "cell_type": "code",
   "execution_count": 2,
   "metadata": {},
   "outputs": [],
   "source": [
    "class LinearRegressionOLS():\n",
    "    '''\n",
    "    Ordinary Least Squares Linear Regression\n",
    "    \n",
    "    intercept - (default) Ture - whether to fit an intercept\n",
    "    \n",
    "    methods:\n",
    "    fit() - trains the model\n",
    "        X - numpy matrix of predictors\n",
    "        y - numpy array of targets\n",
    "        \n",
    "    predict() - makes predictions\n",
    "        X - numpy matrix of predictors\n",
    "    '''\n",
    "    def __init__(self,intercept = True):\n",
    "        self.name = \"Ordinary Least Squares Linear Regression\"\n",
    "        self.intercept = intercept\n",
    "    \n",
    "    def __str__(self):\n",
    "        return \"Ordinary Least Squares Linear Regression\"\n",
    "    \n",
    "    def fit(self,X,y):\n",
    "        if self.intercept:\n",
    "            X = np.insert(X,0,1,axis =1)\n",
    "        self.coefs = np.dot(np.linalg.inv(np.dot(X.T,X)),np.dot(X.T,y))\n",
    "        self.yhat = self.predict_internal(X)\n",
    "        self.sigma_sqrt = np.sum((y - self.yhat)**2)/(X.shape[0] - X.shape[1])\n",
    "\n",
    "        self.var_beta = self.sigma_sqrt * np.linalg.inv(np.dot(X.T,X))\n",
    "        self.std_beta = np.sqrt(np.diagonal(self.var_beta ))\n",
    "        self.t_stat = (self.coefs.T/self.std_beta).flatten()\n",
    "        self.p_val = (1 - stats.t.cdf(np.abs(self.t_stat),(X.shape[0] - X.shape[1]))) * 2\n",
    "    \n",
    "    def predict_internal(self,X):\n",
    "        return np.dot(X,self.coefs)\n",
    "    \n",
    "    def predict(self,X):\n",
    "        if self.intercept:\n",
    "            X = np.insert(X,0,1,axis =1)\n",
    "        return np.dot(X,self.coefs)\n",
    "    "
   ]
  },
  {
   "cell_type": "code",
   "execution_count": 3,
   "metadata": {},
   "outputs": [],
   "source": [
    "X = np.arange(100).reshape(-1,1)\n",
    "y = 5 + 2*X"
   ]
  },
  {
   "cell_type": "code",
   "execution_count": 4,
   "metadata": {},
   "outputs": [
    {
     "data": {
      "text/plain": [
       "(array([5.]), array([[2.]]))"
      ]
     },
     "execution_count": 4,
     "metadata": {},
     "output_type": "execute_result"
    }
   ],
   "source": [
    "lin_reg = LinearRegression(fit_intercept=True)\n",
    "lin_reg.fit(X, y)\n",
    "lin_reg.intercept_,lin_reg.coef_"
   ]
  },
  {
   "cell_type": "code",
   "execution_count": 5,
   "metadata": {},
   "outputs": [
    {
     "data": {
      "text/plain": [
       "array([[5.],\n",
       "       [2.]])"
      ]
     },
     "execution_count": 5,
     "metadata": {},
     "output_type": "execute_result"
    }
   ],
   "source": [
    "myLinearRegression = LinearRegressionOLS()\n",
    "myLinearRegression.fit(X,y)\n",
    "myLinearRegression.coefs"
   ]
  }
 ],
 "metadata": {
  "kernelspec": {
   "display_name": "pytorch_1_3",
   "language": "python",
   "name": "pytorch_1_3"
  },
  "language_info": {
   "codemirror_mode": {
    "name": "ipython",
    "version": 3
   },
   "file_extension": ".py",
   "mimetype": "text/x-python",
   "name": "python",
   "nbconvert_exporter": "python",
   "pygments_lexer": "ipython3",
   "version": "3.7.5"
  }
 },
 "nbformat": 4,
 "nbformat_minor": 2
}
